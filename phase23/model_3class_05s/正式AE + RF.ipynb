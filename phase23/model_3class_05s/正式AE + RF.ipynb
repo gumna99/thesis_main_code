{
 "cells": [
  {
   "cell_type": "code",
   "execution_count": 1,
   "id": "935aec65",
   "metadata": {},
   "outputs": [],
   "source": [
    "import random\n",
    "import time\n",
    "import numpy as np\n",
    "import tensorflow as tf\n",
    "import matplotlib.pyplot as plt\n",
    "import numpy as np\n",
    "import pandas as pd\n",
    "import pickle\n",
    "import matplotlib.pyplot as plt\n",
    "import os\n",
    "import math\n",
    "from tensorflow.keras import Sequential, Model   # 按順序建立的神經網路\n",
    "from tensorflow.keras import metrics\n",
    "from tensorflow.keras.layers import Dense,Conv2D,Dropout,Flatten,MaxPooling2D, LSTM, TimeDistributed # Dense全連線層\n",
    "from tensorflow.keras.layers import RepeatVector, Dense, Flatten, Input, Dropout, Conv1D, Lambda, GRU, Softmax, MaxPooling1D, multiply\n",
    "from sklearn.model_selection import train_test_split\n",
    "from sklearn.preprocessing import MinMaxScaler, StandardScaler\n",
    "from sklearn.metrics import mean_squared_error\n",
    "from tensorflow.keras.callbacks import EarlyStopping\n",
    "from sklearn.metrics import mean_absolute_error, mean_absolute_percentage_error\n",
    "import datetime\n"
   ]
  },
  {
   "cell_type": "code",
   "execution_count": 2,
   "id": "48d4e2af",
   "metadata": {},
   "outputs": [
    {
     "name": "stdout",
     "output_type": "stream",
     "text": [
      "(878534, 18) (878534, 1)\n",
      "被正規化後的形狀:  (878534, 18)\n",
      "(207974, 18) (207974, 1)\n",
      "被正規化後的形狀:  (207974, 18)\n",
      "(207974, 3, 6) (207974, 1)\n"
     ]
    }
   ],
   "source": [
    "import Dataset\n",
    "#切train test\n",
    "data = Dataset.Data_set('Training', 'X.csv', 'Y_level3_05s.csv')\n",
    "#切train test\n",
    "testdata = Dataset.Data_set('Testing','X.csv', 'Y_level3_05s.csv')\n",
    "print(testdata.X_n_w.shape,testdata.Y.shape)"
   ]
  },
  {
   "cell_type": "code",
   "execution_count": 3,
   "id": "5e1e94e3",
   "metadata": {},
   "outputs": [
    {
     "name": "stdout",
     "output_type": "stream",
     "text": [
      "(878534, 3, 6) (878534, 3)\n",
      "(207974, 3, 6) (207974, 3)\n"
     ]
    }
   ],
   "source": [
    "from  keras.utils import to_categorical\n",
    "# zero-offset class values  從0開始計類\n",
    "trainX = data.X_n_w\n",
    "trainY = data.Y - 1\n",
    "# one hot encode y\n",
    "trainY = to_categorical(trainY)\n",
    "print(trainX.shape, trainY.shape)\n",
    "\n",
    "testX = testdata.X_n_w\n",
    "testY = testdata.Y - 1\n",
    "# one hot encode y\n",
    "testY = to_categorical(testY)\n",
    "print(testX.shape, testY.shape)"
   ]
  },
  {
   "cell_type": "code",
   "execution_count": 4,
   "id": "e0b74a09",
   "metadata": {},
   "outputs": [],
   "source": [
    "# confusion_matrix\n",
    "from sklearn.metrics import classification_report\n",
    "import itertools\n",
    "import matplotlib.pyplot as plt\n",
    "from sklearn.metrics import confusion_matrix\n",
    "import numpy as np\n",
    " \n",
    "def plot_confusion_matrix(cm, classes,\n",
    "                          normalize=True,\n",
    "                          title='Confusion matrix',\n",
    "                          cmap=plt.cm.Blues):   #plt.cm.Blues、plt.cm.bone_r\n",
    "    \"\"\"\n",
    "    This function prints and plots the confusion matrix.\n",
    "    Normalization can be applied by setting `normalize=True`.\n",
    "    \"\"\"\n",
    "    if normalize:\n",
    "        cm = cm.astype('float') / cm.sum(axis=1)[:, np.newaxis]\n",
    "        print(\"Normalized confusion matrix\")\n",
    "    else:\n",
    "        print('Confusion matrix, without normalization')\n",
    "\n",
    "    print(cm)\n",
    "    plt.figure(figsize = (7, 7))\n",
    "    plt.imshow(cm, interpolation='none', cmap=cmap)\n",
    "    plt.title(title,size=20)\n",
    "    plt.colorbar(aspect=5)\n",
    "    tick_marks = np.arange(len(classes))\n",
    "    plt.xticks(tick_marks, classes, rotation=45, size=18)\n",
    "    plt.yticks(tick_marks, classes, size=18)\n",
    "\n",
    "    fmt = '.4f' if normalize else 'd'\n",
    "    thresh = cm.max() / 2.\n",
    "    for i, j in itertools.product(range(cm.shape[0]), range(cm.shape[1])):\n",
    "        plt.text(j, i, format(cm[i, j], fmt), fontsize=18,\n",
    "                 horizontalalignment=\"center\",\n",
    "                 color=\"white\" if cm[i, j] > thresh else \"black\")\n",
    "\n",
    "    plt.ylabel('True label',size=20)\n",
    "    plt.xlabel('Predicted label',size=20)\n",
    "    plt.tight_layout()"
   ]
  },
  {
   "cell_type": "markdown",
   "id": "8671257e",
   "metadata": {},
   "source": [
    "## RF_model"
   ]
  },
  {
   "cell_type": "code",
   "execution_count": 5,
   "id": "beb82bc5",
   "metadata": {
    "scrolled": true
   },
   "outputs": [
    {
     "name": "stdout",
     "output_type": "stream",
     "text": [
      "Model: \"model\"\n",
      "_________________________________________________________________\n",
      "Layer (type)                 Output Shape              Param #   \n",
      "=================================================================\n",
      "input_3 (InputLayer)         [(None, 3, 6)]            0         \n",
      "_________________________________________________________________\n",
      "lstm_10 (LSTM)               (None, 3, 32)             4992      \n",
      "_________________________________________________________________\n",
      "lstm_11 (LSTM)               (None, 3, 16)             3136      \n",
      "_________________________________________________________________\n",
      "lstm_12 (LSTM)               (None, 3)                 240       \n",
      "=================================================================\n",
      "Total params: 8,368\n",
      "Trainable params: 8,368\n",
      "Non-trainable params: 0\n",
      "_________________________________________________________________\n",
      "1625293988.0419424 1625294038.5487816\n",
      "執行時間：50.506839 秒\n"
     ]
    }
   ],
   "source": [
    "from tensorflow.keras.models import load_model\n",
    "### 建模 EN-LSTM\n",
    "start = time.time()\n",
    "\n",
    "# load the model from file\n",
    "sequence_autoencoder = load_model('/3T_HD/Neng/智慧機車_data/data_中山_bydriver/Best_10_drivers/MODEL_DATA_10_AllNormal_大於600_by_journey/model_3class_05s/model_trained/sequence_autoencoder_100e.h5')\n",
    "encoder = Model(sequence_autoencoder.input,sequence_autoencoder.layers[-5].output)\n",
    "\n",
    "encoder.summary()\n",
    "\n",
    "trainX_encoded = encoder.predict(trainX,batch_size=128)  #\n",
    "testX_encoded  = encoder.predict(testX,batch_size=128)\n",
    "\n",
    "from sklearn.ensemble import RandomForestClassifier\n",
    "RF_model = RandomForestClassifier(n_estimators=100,n_jobs = -1,random_state =50, min_samples_leaf = 10)\n",
    "\n",
    "history_RF = RF_model.fit(trainX_encoded,trainY )#,random_state=42\n",
    "\n",
    "testX_pred_L=RF_model.predict(testX_encoded)#預測\n",
    "\n",
    "end = time.time()\n",
    "print(start, end)\n",
    "print(\"執行時間：%f 秒\" % (end - start))"
   ]
  },
  {
   "cell_type": "code",
   "execution_count": 6,
   "id": "a3d036fc",
   "metadata": {},
   "outputs": [
    {
     "data": {
      "text/plain": [
       "0.7760970121265158"
      ]
     },
     "execution_count": 6,
     "metadata": {},
     "output_type": "execute_result"
    }
   ],
   "source": [
    "acc = RF_model.score(testX_encoded, testY)\n",
    "acc"
   ]
  },
  {
   "cell_type": "code",
   "execution_count": 7,
   "id": "21fbf190",
   "metadata": {},
   "outputs": [],
   "source": [
    "imp=RF_model.feature_importances_"
   ]
  },
  {
   "cell_type": "code",
   "execution_count": 9,
   "id": "c6780c44",
   "metadata": {},
   "outputs": [
    {
     "name": "stdout",
     "output_type": "stream",
     "text": [
      "[[53337 10777    87]\n",
      " [12089 57309  8424]\n",
      " [ 1493 12292 52166]]\n",
      "              precision    recall  f1-score   support\n",
      "\n",
      "           0     0.7970    0.8308    0.8136     64201\n",
      "           1     0.7130    0.7364    0.7245     77822\n",
      "           2     0.8597    0.7910    0.8239     65951\n",
      "\n",
      "    accuracy                         0.7828    207974\n",
      "   macro avg     0.7899    0.7861    0.7873    207974\n",
      "weighted avg     0.7855    0.7828    0.7835    207974\n",
      "\n"
     ]
    }
   ],
   "source": [
    "from sklearn.metrics import classification_report,confusion_matrix\n",
    "\n",
    "y_pred=np.argmax(testX_pred_L, axis=1)\n",
    "y_test=np.argmax(testY, axis=1)\n",
    "cm = confusion_matrix(y_test, y_pred)\n",
    "\n",
    "print(cm)\n",
    "print(classification_report(y_test,y_pred, digits=4))"
   ]
  },
  {
   "cell_type": "code",
   "execution_count": 11,
   "id": "b535ac01",
   "metadata": {},
   "outputs": [
    {
     "name": "stdout",
     "output_type": "stream",
     "text": [
      "Normalized confusion matrix\n",
      "[[0.83078145 0.16786343 0.00135512]\n",
      " [0.15534168 0.7364113  0.10824703]\n",
      " [0.02263802 0.1863808  0.79098118]]\n",
      "Confusion matrix, without normalization\n",
      "[[53337 10777    87]\n",
      " [12089 57309  8424]\n",
      " [ 1493 12292 52166]]\n"
     ]
    },
    {
     "data": {
      "image/png": "[encoded data removed]",
      "text/plain": [
       "<Figure size 504x504 with 2 Axes>"
      ]
     },
     "metadata": {
      "needs_background": "light"
     },
     "output_type": "display_data"
    },
    {
     "data": {
      "image/png": "[encoded data removed]",
      "text/plain": [
       "<Figure size 504x504 with 2 Axes>"
      ]
     },
     "metadata": {
      "needs_background": "light"
     },
     "output_type": "display_data"
    }
   ],
   "source": [
    "\n",
    "y_pred=np.argmax(testX_pred_L, axis=1)\n",
    "y_test=np.argmax(testY, axis=1)\n",
    "cm = confusion_matrix(y_test, y_pred)\n",
    "class_names = ['1','2','3']\n",
    "plot_confusion_matrix(cm, class_names)\n",
    "plot_confusion_matrix(cm, class_names, normalize=False)"
   ]
  },
  {
   "cell_type": "code",
   "execution_count": 13,
   "id": "ab02ad85",
   "metadata": {},
   "outputs": [
    {
     "data": {
      "text/plain": [
       "['trained_model/RF_model.pkl']"
      ]
     },
     "execution_count": 13,
     "metadata": {},
     "output_type": "execute_result"
    }
   ],
   "source": [
    "import joblib\n",
    "\n",
    "joblib.dump(RF_model, 'trained_model/RF_model.pkl')"
   ]
  },
  {
   "cell_type": "code",
   "execution_count": null,
   "id": "b6dafb06",
   "metadata": {},
   "outputs": [],
   "source": []
  },
  {
   "cell_type": "markdown",
   "id": "1bcb6e3b",
   "metadata": {},
   "source": [
    "# ------------\n"
   ]
  },
  {
   "cell_type": "code",
   "execution_count": null,
   "id": "1b0d55e6",
   "metadata": {},
   "outputs": [],
   "source": []
  }
 ],
 "metadata": {
  "kernelspec": {
   "display_name": "Python 3",
   "language": "python",
   "name": "python3"
  },
  "language_info": {
   "codemirror_mode": {
    "name": "ipython",
    "version": 3
   },
   "file_extension": ".py",
   "mimetype": "text/x-python",
   "name": "python",
   "nbconvert_exporter": "python",
   "pygments_lexer": "ipython3",
   "version": "3.8.10"
  }
 },
 "nbformat": 4,
 "nbformat_minor": 5
}
